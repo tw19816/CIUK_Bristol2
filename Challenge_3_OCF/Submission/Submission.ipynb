{
 "cells": [
  {
   "cell_type": "markdown",
   "id": "ddd3c023-8ff7-4fce-bafa-0186e77001eb",
   "metadata": {},
   "source": [
    "# Summerization extension"
   ]
  },
  {
   "cell_type": "markdown",
   "id": "0bad6959-df33-4e1d-a5ca-6cbf1b095c3f",
   "metadata": {},
   "source": [
    "To extend summerisation to longer text I create an input text file that can hold text of any length. The file is loaded and then read through to pick out each line in the file...finally, a tl;dr statement is added to the end so when the request is made the GPT model knows that to do.\n",
    "\n",
    "Beam width was increased from 1 >> 2 since it seemed to have good impact ont he output, creating fuller sentences with a wider vocab. We noticed some interesting things when testing the program. Our text scripts titled 'particle_phys' 'telephone' 'tree'. particle phyisics text performed incredibly badly when compared to telphone and tree. When tree was inputed, the summerization was staggeringly good:\n",
    "\n",
    "### Tree:\n",
    "\"A tree is a tall plant with a trunk and branches made of wood. Trees can live for many years. The oldest tree ever discovered is approximately 5,000 years old and the oldest tree from the UK is about 1,000. The four main parts of a tree are the roots, the trunk, the branches, and the leaves. The roots of a tree are usually under the ground. However, this is not always true. The roots of the mangrove tree are often under water. A single tree has many roots. The roots carry nutrients and water from the ground through the trunk and branches to the leaves of the tree\"\n",
    "\n",
    "### Particle phys:\n",
    "Fundamental particles are particles that do not break apart when they collide.\n",
    "Particles that do not break apart are called fundamental particles.\n",
    "\n",
    "<|endoftext|><|endoftext|><|endoftext|><|endoftext|><|endoftext|><|endoftext|><|endoftext|><|endoftext|><|endoftext|><|endoftext|><|endoftext|><|endoftext|><|endoftext|><|endoftext|><|endoftext|><|endoftext|><|endoftext|><|endoftext|><|endoftext|><|endoftext|><|endoftext|><|endoftext|><|endoftext|><|endoftext|><|endoftext|><|endoftext|><|endoftext|><|endoftext|><|endoftext|><|endoftext|><|endoftext|><|endoftext|><|endoftext|><|endoftext|><|endoftext|><|endoftext|><|endoftext|><|endoftext|><|endoftext|><|endoftext|><|endoftext|><|endoftext|><|endoftext|><|endoftext|><|endoftext|><|endoftext|><|endoftext|><|endoftext|><|endoftext|><|endoftext|><|endoftext|><|endoftext|><|endoftext|><|endoftext|><|endoftext|><|endoftext|><|endoftext|><|endoftext|><|endoftext|><|endoftext|><|endoftext|><|endoftext|><|endoftext|><|endoftext|><|endoftext|><|endoftext|><|endoftext|><|endoftext|><|endoftext|><|endoftext|><|endoftext|><|endoftext|><|endoftext|><|endoftext|><|endoftext|><|endoftext|><|endoftext|><|endoftext|><|endoftext|><|endoftext|><|endoftext|><|endoftext|><|endoftext|><|endoftext|><|endoftext|><|endoftext|><|endoftext|><|endoftext|><|endoftext|><|endoftext|><|endoftext|><|endoftext|><|endoftext|><|endoftext|><|endoftext|><|endoftext|><|endoftext|><|endoftext|><|endoftext|>\n",
    "\n",
    "### telephone:\n",
    "\n",
    "A telephone is a device that allows people to talk to each other over a distance.\n",
    "\n",
    "There are many different types of telephones. A telephone that can be carried around is called a mobile phone or cell phone. These became popular in the 1980s. It has become common for people to carry mobile phones and in some places it is unusual to not have one. The majority are smartphones, which can be used as computers. Some mobile phones are able to make telephone calls using communications satellites instead of masts on the ground, which means people can make calls from anywhere in the world.\n",
    "In most countries there are public payphones\n",
    "\n",
    "\n",
    "As a note all these texts are longer than the supplied text and there is no reason for why they can't be longer. We can see the model has most likely trained on common words and phrases. It is unlikely a conversational AI needs to know about particle physics or has the vocab to write a few sentences on it. It's a niche subject when compared to a telephone or tree. We learned this is because the model uses a stochastic process that may fall over sometimes. An interesting case was some inputs for particle physics would prompt an answer from the GPT ai with keyword 'A:' instead of TLDR, despite being supplied with '\\ntldr\\n' ....  Interesing !!!!!"
   ]
  },
  {
   "cell_type": "markdown",
   "id": "c6507e07-c0f9-4f41-b575-2192f4a8586b",
   "metadata": {},
   "source": [
    "# Translation to any other language"
   ]
  },
  {
   "cell_type": "markdown",
   "id": "5f61b492-1167-4baa-9336-8fff306ba03b",
   "metadata": {},
   "source": [
    "We give a training set of phrases in English and Malay. The model is trained on these phrases and takes a user input. The input could be English or Malay, the program is told which langue the input is in and translates to the other language. This is a TEXT >> TEXT...The outputs do include the training phrases so string processing was needed to remove the training phrases to give the user a clean translation.\n",
    "\n",
    "AS A NOTE OUR ORGINAL IDEA WAS TO CREATE A PROFANITY FILTER SO THESE PHRASES ARE VERY RUDE\n",
    "\n",
    "We chose Malay since one of our team memebers is proficient. The translate accepts sentences "
   ]
  },
  {
   "cell_type": "markdown",
   "id": "7d8b4661-09dc-4490-a391-44f56c088a52",
   "metadata": {},
   "source": [
    "# OUR TOOL"
   ]
  },
  {
   "cell_type": "markdown",
   "id": "79088e73-67d2-4238-9ea7-b612c82abd93",
   "metadata": {},
   "source": [
    "Our tool is designed for interviewers and interviewees who don't speak the same language, in this case its Malay and English. The Tool, takes answers to questions in english, converts it from speech to text, summerizes the text and translates the summarization text. This tool would save time for the interviewer as answers are recorded, time is also saved by giving the intervier summarised text. Gives interviewers access to talent who speak different langauges. This workflow works extremely well, but does fail in some instances. From our Malay speaking member we see the third output sentence doesnt translate correctly. Most sentences however do make sense "
   ]
  },
  {
   "cell_type": "code",
   "execution_count": null,
   "id": "f4a98d6c-dfeb-47cf-b6ad-310e59635659",
   "metadata": {},
   "outputs": [],
   "source": []
  }
 ],
 "metadata": {
  "kernelspec": {
   "display_name": "Python 3.10.6 64-bit",
   "language": "python",
   "name": "python3"
  },
  "language_info": {
   "codemirror_mode": {
    "name": "ipython",
    "version": 3
   },
   "file_extension": ".py",
   "mimetype": "text/x-python",
   "name": "python",
   "nbconvert_exporter": "python",
   "pygments_lexer": "ipython3",
   "version": "3.10.6"
  },
  "vscode": {
   "interpreter": {
    "hash": "916dbcbb3f70747c44a77c7bcd40155683ae19c65e1c03b4aa3499c5328201f1"
   }
  }
 },
 "nbformat": 4,
 "nbformat_minor": 5
}
