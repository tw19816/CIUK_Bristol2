{
 "cells": [
  {
   "cell_type": "markdown",
   "id": "d63ac548-6a86-4e4e-b704-4b50863ecad3",
   "metadata": {
    "tags": []
   },
   "source": [
    "# Interview Tool\n",
    "\n",
    "This is an automated interview system. It will ask a question and then record the answer. This answer will be transcribed to text using ASR, summarised and traslated to Malay."
   ]
  },
  {
   "cell_type": "code",
   "execution_count": 1,
   "id": "b1b5d0b2-a4ed-46a0-baf0-777490e3922b",
   "metadata": {},
   "outputs": [],
   "source": [
    "import os\n",
    "import riva.client\n",
    "auth = riva.client.Auth(uri='10.100.182.246:50051')"
   ]
  },
  {
   "cell_type": "code",
   "execution_count": 2,
   "id": "22516d10-de13-460b-89ac-7d92ecb214d1",
   "metadata": {},
   "outputs": [],
   "source": [
    "asr_service = riva.client.ASRService(auth)\n",
    "\n",
    "offline_config = riva.client.RecognitionConfig(\n",
    "    encoding=riva.client.AudioEncoding.LINEAR_PCM,\n",
    "    max_alternatives=1,\n",
    "    enable_automatic_punctuation=True,\n",
    "    verbatim_transcripts=False,\n",
    ")"
   ]
  },
  {
   "cell_type": "code",
   "execution_count": 3,
   "id": "7615d2f8-14bb-49d9-bc82-bf21eec513a6",
   "metadata": {},
   "outputs": [],
   "source": [
    "questions = [\"What is your name?\", \"What degree have to studied?\", \"Tell me about one of your hobbies?\", \"Why do you want to work for us?\"]\n",
    "answers = []"
   ]
  },
  {
   "cell_type": "markdown",
   "id": "fb2ec54a-e38c-4e86-acc9-b3d7d69058a4",
   "metadata": {},
   "source": [
    "Boosting allows Livs to be detected"
   ]
  },
  {
   "cell_type": "code",
   "execution_count": 4,
   "id": "3fa0c0c9-19d3-4617-a674-a45449b276c7",
   "metadata": {},
   "outputs": [],
   "source": [
    "boosted_lm_words = ['Livs']\n",
    "boosted_lm_score = 20.0"
   ]
  },
  {
   "cell_type": "code",
   "execution_count": 5,
   "id": "3d9979db-f3ac-4c11-b194-ff6c59a728ac",
   "metadata": {},
   "outputs": [],
   "source": [
    "wav_filedir = \"answers\"\n",
    "wav_filenames = [\"Liwia_name.wav\", \"Liwia_study.wav\", \"Liwia_hobby.wav\", \"Liwia_work.wav\"]\n",
    "for wav_name in wav_filenames:\n",
    "    wav_path = os.path.join(wav_filedir, wav_name)\n",
    "    riva.client.add_audio_file_specs_to_config(offline_config, wav_path)\n",
    "    with open(wav_path, \"rb\") as f:\n",
    "        data = f.read()\n",
    "    response = asr_service.offline_recognize(data, offline_config)\n",
    "    answers.append(str(response.__repr__().split(\"\\\"\")[1:2])[2:-2])"
   ]
  },
  {
   "cell_type": "code",
   "execution_count": 6,
   "id": "485d2104-1837-4a94-b020-dd21fdb04a8f",
   "metadata": {},
   "outputs": [
    {
     "name": "stdout",
     "output_type": "stream",
     "text": [
      "Hello, my name is Livia, but please call me Lives. \n",
      "\n",
      "\n",
      "I am currently studying theoretical physics at the University of Bristol. This year I will be finishing my final year and completing my Master\\\\'s project. \n",
      "\n",
      "\n",
      "am a keen scuba diver and indoor climber. I am currently in a committee role in the largest scuba diving club in the U. K. really enjoy wreck diving, especially when you can penetrate the wreck. They are also really good for marine wildlife as they become artificial reefs. Last September I went for my 1st scuba trip abroad. It was a lot of fun. We went diving in Gozo, Malta. The water was much warmer and the visibility was approximately 30 m. It was a crazy experience to be a 35 m with a fish and be able to look up and still see the surface. This was nothing like the Uk, where sometimes you cannot even see your dive buddy. \n",
      "\n",
      "\n",
      "I love coding and problem solving, so I think I would make a great addition to your team. I am also very interested in the idea of moving to Malaysia as the weather looks much better over there. \n",
      "\n",
      "\n"
     ]
    }
   ],
   "source": [
    "for id, answer in enumerate(answers):\n",
    "    print(questions[id])\n",
    "    print(answer)\n",
    "    print(\"\\n\")"
   ]
  },
  {
   "cell_type": "markdown",
   "id": "68a0c9dd-a473-4ca5-8671-9d643e5b41fd",
   "metadata": {},
   "source": [
    "# SUMMERIZES TEXT"
   ]
  },
  {
   "cell_type": "code",
   "execution_count": 7,
   "id": "11a51285-b557-420f-baeb-88a49d999de9",
   "metadata": {},
   "outputs": [],
   "source": [
    "import numpy as np\n",
    "import tritonclient.http as httpclient\n",
    "import riva.client\n",
    "auth = riva.client.Auth(uri='10.100.182.246:50051')\n",
    "\n",
    "from tritonclient.utils import np_to_triton_dtype\n",
    "\n",
    "URL = \"10.98.96.143:8000\"\n",
    "MODEl_GPTJ_FASTERTRANSFORMER = \"ensemble\" \n",
    "\n",
    "OUTPUT_LEN = 128\n",
    "BATCH_SIZE = 1\n",
    "BEAM_WIDTH = 2\n",
    "TOP_K = 1\n",
    "TOP_P = 0.0\n",
    "\n",
    "start_id = 220\n",
    "end_id = 50256"
   ]
  },
  {
   "cell_type": "code",
   "execution_count": 8,
   "id": "3d41fff3-09ef-4295-99a9-f4f4d596102d",
   "metadata": {},
   "outputs": [],
   "source": [
    "client = httpclient.InferenceServerClient(URL,\n",
    "                                           concurrency=1,\n",
    "                                           verbose=False)"
   ]
  },
  {
   "cell_type": "code",
   "execution_count": 9,
   "id": "fbebd227-2f6d-4975-a12b-0870ba26ef83",
   "metadata": {},
   "outputs": [],
   "source": [
    "# Inference hyperparameters\n",
    "def prepare_tensor(name, input):\n",
    "    tensor = httpclient.InferInput(\n",
    "        name, input.shape, np_to_triton_dtype(input.dtype))\n",
    "    tensor.set_data_from_numpy(input)\n",
    "    return tensor\n",
    "\n",
    "# explanation\n",
    "def prepare_inputs(input0):\n",
    "    bad_words_list = np.array([[\"\"]], dtype=object)\n",
    "    stop_words_list = np.array([[\"\"]], dtype=object)\n",
    "    input0_data = np.array(input0).astype(object)\n",
    "    output0_len = np.ones_like(input0).astype(np.uint32) * OUTPUT_LEN\n",
    "    runtime_top_k = (TOP_K * np.ones([input0_data.shape[0], 1])).astype(np.uint32)\n",
    "    runtime_top_p = TOP_P * np.ones([input0_data.shape[0], 1]).astype(np.float32)\n",
    "    beam_search_diversity_rate = 0.0 * np.ones([input0_data.shape[0], 1]).astype(np.float32)\n",
    "    temperature = 1.0 * np.ones([input0_data.shape[0], 1]).astype(np.float32)\n",
    "    len_penalty = 1.0 * np.ones([input0_data.shape[0], 1]).astype(np.float32)\n",
    "    repetition_penalty = 1.0 * np.ones([input0_data.shape[0], 1]).astype(np.float32)\n",
    "    random_seed = 0 * np.ones([input0_data.shape[0], 1]).astype(np.int32)\n",
    "    is_return_log_probs = True * np.ones([input0_data.shape[0], 1]).astype(bool)\n",
    "    beam_width = (BEAM_WIDTH * np.ones([input0_data.shape[0], 1])).astype(np.uint32)\n",
    "    start_ids = start_id * np.ones([input0_data.shape[0], 1]).astype(np.uint32)\n",
    "    end_ids = end_id * np.ones([input0_data.shape[0], 1]).astype(np.uint32)\n",
    "\n",
    "    inputs = [\n",
    "        prepare_tensor(\"INPUT_0\", input0_data),\n",
    "        prepare_tensor(\"INPUT_1\", output0_len),\n",
    "        prepare_tensor(\"INPUT_2\", bad_words_list),\n",
    "        prepare_tensor(\"INPUT_3\", stop_words_list),\n",
    "        prepare_tensor(\"runtime_top_k\", runtime_top_k),\n",
    "        prepare_tensor(\"runtime_top_p\", runtime_top_p),\n",
    "        prepare_tensor(\"beam_search_diversity_rate\", beam_search_diversity_rate),\n",
    "        prepare_tensor(\"temperature\", temperature),\n",
    "        prepare_tensor(\"len_penalty\", len_penalty),\n",
    "        prepare_tensor(\"repetition_penalty\", repetition_penalty),\n",
    "        prepare_tensor(\"random_seed\", random_seed),\n",
    "        prepare_tensor(\"is_return_log_probs\", is_return_log_probs),\n",
    "        prepare_tensor(\"beam_width\", beam_width),\n",
    "        prepare_tensor(\"start_id\", start_ids),\n",
    "        prepare_tensor(\"end_id\", end_ids),\n",
    "    ]\n",
    "    return inputs"
   ]
  },
  {
   "cell_type": "code",
   "execution_count": 10,
   "id": "a54ffd17-facb-4690-8ec0-eab60752410e",
   "metadata": {},
   "outputs": [],
   "source": [
    "def convert(s):\n",
    "    # initialization of string to \"\"\n",
    "    new = \"\"\n",
    "    # traverse in the string\n",
    "    for x in s:\n",
    "        new += x\n",
    "    # return string\n",
    "    return [new]\n",
    "\n",
    "one = 'particle_phys.txt'\n",
    "two = 'telephone.txt'\n",
    "three = 'tree.txt'\n",
    "\n",
    "f = open(three, \"r\")\n",
    "longer_inputs = []\n",
    "\n",
    "for x in f:\n",
    "    longer_inputs.append(x)\n",
    "\n",
    "temp = [\"\"]\n",
    "for i in longer_inputs:\n",
    "    if i != '\\n':\n",
    "        temp += i\n",
    "        \n",
    "\n",
    "temp2 = convert(temp)\n",
    "temp2.append('\\n\\ntl;dr:\\n')"
   ]
  },
  {
   "cell_type": "code",
   "execution_count": 11,
   "id": "8febfcec-b83a-41df-96b9-eed52d6ad7c6",
   "metadata": {},
   "outputs": [],
   "source": [
    "input0 = [[temp2[0] + temp2[1]],]\n",
    "inputs = prepare_inputs(input0)\n",
    "result = client.infer(MODEl_GPTJ_FASTERTRANSFORMER, inputs)\n",
    "output0 = result.as_numpy(\"OUTPUT_0\")"
   ]
  },
  {
   "cell_type": "code",
   "execution_count": 12,
   "id": "0ac2196b-7ba4-4785-a022-55355a2a52d8",
   "metadata": {},
   "outputs": [
    {
     "name": "stdout",
     "output_type": "stream",
     "text": [
      "A tree is a tall plant with a trunk and branches made of wood. Trees can live for many years. The oldest tree ever discovered is approximately 5,000 years old and the oldest tree from the UK is about 1,000. The four main parts of a tree are the roots, the trunk, the branches, and the leaves.\n",
      "The roots of a tree are usually under the ground. However, this is not always true. The roots of the mangrove tree are often under water. A single tree has many roots. The roots carry nutrients and water from the ground through the trunk and branches to the leaves of the tree. They can also breathe in air. Sometimes, roots are specialized into aerial roots, which can also provide support, as is the case with the banyan tree.\n",
      "The trunk is the main body of the tree. The trunk is covered with bark which protects it from damage. Branches grow from the trunk. They spread out so that the leaves can get more sunlight.\n",
      "The leaves of a tree are green most of the time, but they can come in many colors, shapes and sizes. The leaves take in sunlight and use water and food from the roots to make the tree grow, and to reproduce.\n",
      "Trees and shrubs take in water and carbon dioxide and give out oxygen with sunlight to form sugars. This is the opposite of what animals do in respiration. Plants also do some respiration using oxygen the way animals do. They need oxygen as well as carbon dioxide to live. Trees are renewable resources because, if cut down, other trees can grow in their place.\n",
      "\n",
      "tl;dr:\n",
      "\n",
      "A tree is a tall plant with a trunk and branches made of wood. Trees can live for many years. The oldest tree ever discovered is approximately 5,000 years old and the oldest tree from the UK is about 1,000. The four main parts of a tree are the roots, the trunk, the branches, and the leaves. The roots of a tree are usually under the ground. However, this is not always true. The roots of the mangrove tree are often under water. A single tree has many roots. The roots carry nutrients and water from the ground through the trunk and branches to the leaves of the tree\n"
     ]
    }
   ],
   "source": [
    "print(output0[0].decode('UTF-8'))"
   ]
  },
  {
   "cell_type": "markdown",
   "id": "055db2d9-1c43-4540-b112-d7a54ecfe770",
   "metadata": {},
   "source": [
    "# Translation"
   ]
  },
  {
   "cell_type": "code",
   "execution_count": null,
   "id": "c6d60a55-9b54-4025-a2d1-4a2f8e587bbe",
   "metadata": {},
   "outputs": [],
   "source": []
  },
  {
   "cell_type": "code",
   "execution_count": null,
   "id": "a92e9216-a009-4f71-8b1f-684bb81b1f82",
   "metadata": {},
   "outputs": [],
   "source": []
  },
  {
   "cell_type": "code",
   "execution_count": 62,
   "id": "55a7c36c-7768-4730-b868-7fc0300d9c0f",
   "metadata": {},
   "outputs": [],
   "source": [
    "def Translate( User_input, input_lang):\n",
    "    \n",
    "    if input_lang == 'EN' :\n",
    "        \n",
    "        Training_phrases = (  \n",
    "        \"English: The horse looks sexy \"\n",
    "        \"Malay: Kuda itu kelihatan seksi\"\n",
    "\n",
    "        \"English: your father is a sexy policeman. \"\n",
    "        \"Malay: ayah kamu merupakan seorang polis yang seksi.\"\n",
    "\n",
    "        \"English: I like cows. \"\n",
    "        \"Malay: Saya suka lembu.\"\n",
    "\n",
    "        \"English: This company provide great opportunity. \"\n",
    "        \"Malay: syarikat ini memberikan peluang yang besar.\"\n",
    "\n",
    "        \"English: I love coral reefs\"\n",
    "        \"Malay: saya suka terumbu karang\"\n",
    "\n",
    "        \"English: Albert Einstein is a theoretical physicist\"\n",
    "        \"Malay: Albert Einstein ialah seorang ahli fizik teori\"\n",
    "        \n",
    "        \"English: he is part of the golf club committee\"\n",
    "        \"Malay: dia adalah sebahagian daripada jawatankuasa kelab golf\"\n",
    "        \n",
    "        )\n",
    "\n",
    "        Lang_en = \"English:\"\n",
    "        True_input = Lang_en + User_input\n",
    "\n",
    "        input0 = [[Training_phrases + True_input ],]\n",
    "        inputs = prepare_inputs(input0)\n",
    "        result = client.infer(MODEl_GPTJ_FASTERTRANSFORMER, inputs)\n",
    "        output0 = result.as_numpy(\"OUTPUT_0\")\n",
    "\n",
    "        output0 = np.array2string(output0)\n",
    "\n",
    "        k = output0.find(User_input)\n",
    "\n",
    "        k2 = output0.find('Malay', k)\n",
    "\n",
    "        m1 = output0.find( 'English',(k+ len(User_input ) ))\n",
    "        offset = k + len('Malay') + len(User_input)\n",
    "        m2 = output0.find( 'Malay',(offset )) #these three line is here because the AI will spit nonesense\n",
    "        #after it is done translating, so we have to pick it up when the AI \n",
    "\n",
    "        m = min(m1,m2)\n",
    "\n",
    "\n",
    "        print(output0[k2:m])\n",
    "\n",
    "\n",
    "            \n",
    "\n",
    "    if input_lang == 'BM' :\n",
    "\n",
    "        Training_phrases = (\n",
    "        \"Malay: Di mana stesen kereta api terdekat?\"\n",
    "        \"English: Where is the nearest train station? \"\n",
    "\n",
    "        \"Malay: Berapakah harga tiket kereta api ke warsaw? \"\n",
    "        \"English: How much is a train ticket to Warsaw?\"\n",
    "\n",
    "        \"Malay: Jepun merupakan sesuatu bandar di dalam Tokyo\"\n",
    "        \"English: Japan is a city in Tokyo\"\n",
    "\n",
    "        \"Malay: Hang Tuah ialah seorang pahlawan legenda berbangsa Melayu pada masa pemerintahan Kesultanan Melayu Melaka di abad ke-15 \"\n",
    "        \"English: Hang Tuah was a legendary warrior of the Malay race during the reign of the Malacca Sultanate in the 15th century \"\n",
    "\n",
    "        \"Malay: Bolehkah anda cakap bahasa melayu?\"\n",
    "        \"English: can you speak malay?\"\n",
    "        \n",
    "    \n",
    "    \n",
    "        )\n",
    "        \n",
    "        Lang_bm = \"Malay:\"\n",
    "        True_input = Lang_bm + User_input\n",
    "\n",
    "        input0 = [[Training_phrases + True_input ],]\n",
    "        inputs = prepare_inputs(input0)\n",
    "        result = client.infer(MODEl_GPTJ_FASTERTRANSFORMER, inputs)\n",
    "        output0 = result.as_numpy(\"OUTPUT_0\")\n",
    "\n",
    "        output0 = np.array2string(output0)\n",
    "        k = output0.find(User_input)\n",
    "\n",
    "        k2 = output0.find('English', k)\n",
    "\n",
    "        m1 = output0.find( 'Malay',(k+ len(User_input ) ))\n",
    "        offset = k + len('English') + len(User_input)\n",
    "        m2 = output0.find( 'English',(offset )) #these three line is here because the AI will spit nonesense\n",
    "        #after it is done translating, so we have to pick it up when the AI \n",
    "\n",
    "        m = min(m1,m2)\n",
    "        \n",
    "        \n",
    "        print(output0[k2:m])\n",
    "                    \n",
    "        \n",
    "    "
   ]
  },
  {
   "cell_type": "code",
   "execution_count": null,
   "id": "9c097c04-8d7d-4dfa-9add-5bf4a9522c2a",
   "metadata": {},
   "outputs": [],
   "source": []
  },
  {
   "cell_type": "code",
   "execution_count": 63,
   "id": "0b92fedf-c787-4345-bb57-fbd04d6bdf27",
   "metadata": {},
   "outputs": [
    {
     "name": "stdout",
     "output_type": "stream",
     "text": [
      "['I love coding and problem solving, so I think I would make a great addition to your team. I am also very interested in the idea of moving to Malaysia as the weather looks much better over there. ']\n"
     ]
    }
   ],
   "source": [
    "questions = [\"What is your name?\", \"What degree have to studied?\", \"Tell me about one of your hobbies?\", \"Why do you want to work for us?\"]\n",
    "print(response.__repr__().split(\"\\\"\")[1:2])"
   ]
  },
  {
   "cell_type": "code",
   "execution_count": null,
   "id": "5f73d1dd-6f14-468f-9ccf-74b5425724e0",
   "metadata": {},
   "outputs": [
    {
     "name": "stdout",
     "output_type": "stream",
     "text": [
      "Malay: saya adalah penggemar kipas dan penggemar ruang klima.\n",
      "Malay: saya saat ini berada dalam komite yang paling besar dalam klub penyelamat karang di Amerika Serikat.\n",
      "\n",
      "Malay: saya benar-benar menikmati pengungsi, terutamanya ketika anda dapat melepaskan kapal\n",
      "Malay: mereka juga sangat bagus untuk hewan laut karena mereka menjadi bukit ilegal.\\n\\n\n",
      "Malay: tahun lalu saya pergi untuk pertama kalinya scuba di luar negeri.\n",
      "Malay: itu banyak menyenangkan.\n",
      "Malay: kami pergi berjalan-jalan di Gozo, Malta.\n",
      "Malay: air itu jauh lebih hangat dan visibilitasnya kira-kira 30 m.\n",
      "\n",
      "\n"
     ]
    }
   ],
   "source": [
    "for sent in y:\n",
    "    Translate(sent, \"EN\")"
   ]
  },
  {
   "cell_type": "code",
   "execution_count": null,
   "id": "29c326fe-16cf-490c-9fcf-06038d688634",
   "metadata": {},
   "outputs": [],
   "source": []
  },
  {
   "cell_type": "code",
   "execution_count": null,
   "id": "a7a6ddec-15f2-4d7a-9325-62a6f99f8df5",
   "metadata": {},
   "outputs": [],
   "source": []
  },
  {
   "cell_type": "code",
   "execution_count": null,
   "id": "60e9427a-5f30-47ed-9455-66f467abf098",
   "metadata": {},
   "outputs": [],
   "source": []
  }
 ],
 "metadata": {
  "kernelspec": {
   "display_name": "Python 3 (ipykernel)",
   "language": "python",
   "name": "python3"
  },
  "language_info": {
   "codemirror_mode": {
    "name": "ipython",
    "version": 3
   },
   "file_extension": ".py",
   "mimetype": "text/x-python",
   "name": "python",
   "nbconvert_exporter": "python",
   "pygments_lexer": "ipython3",
   "version": "3.10.6"
  }
 },
 "nbformat": 4,
 "nbformat_minor": 5
}
