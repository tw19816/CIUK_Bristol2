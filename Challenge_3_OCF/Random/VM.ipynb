{
 "cells": [
  {
   "cell_type": "code",
   "execution_count": 26,
   "id": "5ea44efb-a73c-4aba-8499-975b158b4608",
   "metadata": {},
   "outputs": [],
   "source": [
    "import riva.client\n",
    "# import riva.client.audio_io\n",
    "auth = riva.client.Auth(uri='10.100.182.246:50051')"
   ]
  },
  {
   "cell_type": "code",
   "execution_count": 27,
   "id": "819b8cc0-3082-44a7-af73-b849e2098784",
   "metadata": {},
   "outputs": [],
   "source": [
    "asr_service = riva.client.ASRService(auth)\n",
    "\n",
    "offline_config = riva.client.RecognitionConfig(\n",
    "    encoding=riva.client.AudioEncoding.LINEAR_PCM,\n",
    "    max_alternatives=1,\n",
    "    enable_automatic_punctuation=True,\n",
    "    verbatim_transcripts=False,\n",
    ")"
   ]
  },
  {
   "cell_type": "code",
   "execution_count": 28,
   "id": "e9689dcf-60bb-4d81-8fce-5bb02329d5e3",
   "metadata": {},
   "outputs": [],
   "source": [
    "wav_file = r\"speechdata/Liwia_bio.wav\"\n",
    "riva.client.add_audio_file_specs_to_config(offline_config, wav_file)\n",
    "with open(wav_file, 'rb') as fh:\n",
    "    data = fh.read()"
   ]
  },
  {
   "cell_type": "code",
   "execution_count": 29,
   "id": "20b8189e-b16d-4ffa-8ee1-41b644586068",
   "metadata": {},
   "outputs": [
    {
     "name": "stdout",
     "output_type": "stream",
     "text": [
      "results {\n",
      "  alternatives {\n",
      "    transcript: \"Hi, I am Livia, but my name is spelled Ua, and it is really frustrating that I had to spell it wrong for the AI to pronounce it correctly, but you can call me Lives. I am currently studying theoretical physics at the University of Bristol. This year, I am doing my Mc project on mapping the Chernobyl Exclusion Zone, says I will be doing this by using computer vision with Cdn. For this, I will be collecting the data in a Uav with a hyperspectral camera. \"\n",
      "    confidence: -1.666225790977478\n",
      "  }\n",
      "  channel_tag: 1\n",
      "  audio_processed: 28.799999237060547\n",
      "}\n",
      "\n"
     ]
    }
   ],
   "source": [
    "response = asr_service.offline_recognize(data, offline_config)\n",
    "print(response)"
   ]
  },
  {
   "cell_type": "code",
   "execution_count": 30,
   "id": "c7620176-5e00-4b94-8147-d7a5a7028389",
   "metadata": {},
   "outputs": [],
   "source": [
    "questions = [\"What is your name?\", \"What degree have to studied?\", \"Tell me about one of your hobbies?\", \"Why do you want to work for us?\"]"
   ]
  }
 ],
 "metadata": {
  "kernelspec": {
   "display_name": "Python 3 (ipykernel)",
   "language": "python",
   "name": "python3"
  },
  "language_info": {
   "codemirror_mode": {
    "name": "ipython",
    "version": 3
   },
   "file_extension": ".py",
   "mimetype": "text/x-python",
   "name": "python",
   "nbconvert_exporter": "python",
   "pygments_lexer": "ipython3",
   "version": "3.10.6"
  }
 },
 "nbformat": 4,
 "nbformat_minor": 5
}
