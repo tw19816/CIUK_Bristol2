{
 "cells": [
  {
   "cell_type": "code",
   "execution_count": 3,
   "id": "e8b1de4f-27a3-490e-a781-d1bb55ca6b59",
   "metadata": {},
   "outputs": [
    {
     "name": "stdout",
     "output_type": "stream",
     "text": [
      "cp: target '/bristolb/va-framework.png' is not a directory\n"
     ]
    }
   ],
   "source": [
    "!cp /bristolb/*"
   ]
  },
  {
   "cell_type": "code",
   "execution_count": null,
   "id": "84942523-7986-45ec-ac07-d6376ae52416",
   "metadata": {},
   "outputs": [],
   "source": []
  }
 ],
 "metadata": {
  "kernelspec": {
   "display_name": "Python 3 (ipykernel)",
   "language": "python",
   "name": "python3"
  },
  "language_info": {
   "codemirror_mode": {
    "name": "ipython",
    "version": 3
   },
   "file_extension": ".py",
   "mimetype": "text/x-python",
   "name": "python",
   "nbconvert_exporter": "python",
   "pygments_lexer": "ipython3",
   "version": "3.10.6"
  }
 },
 "nbformat": 4,
 "nbformat_minor": 5
}
