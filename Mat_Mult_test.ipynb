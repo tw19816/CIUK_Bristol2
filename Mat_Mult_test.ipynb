{
 "cells": [
  {
   "cell_type": "code",
   "execution_count": 30,
   "id": "1851db01",
   "metadata": {},
   "outputs": [
    {
     "name": "stdout",
     "output_type": "stream",
     "text": [
      "[[1, 1], [2, 1]]\n",
      "-----------------------------\n"
     ]
    },
    {
     "data": {
      "text/plain": [
       "[[3, 2], [4, 3]]"
      ]
     },
     "execution_count": 30,
     "metadata": {},
     "output_type": "execute_result"
    }
   ],
   "source": [
    "import random\n",
    "import numpy as np\n",
    "\n",
    "def mat_gen(num):\n",
    "    lst = [[0 for x in range(num)] for y in range(num)]\n",
    "    for i in range (num):\n",
    "        for j in range(num):\n",
    "            lst[i][j] = random.randint( 1 , 31 )\n",
    "    return lst\n",
    "\n",
    "\n",
    "def matrix_mult(m1,m2):\n",
    "    num = len(m1) #assume square\n",
    "    m3 = [[0 for x in range(num)] for y in range(num)]\n",
    "    for i in range(num):\n",
    "        for j in range(num):\n",
    "            for k in range(num):\n",
    "                m3[i][j] += m1[i][k] * m2[k][j]\n",
    "    return m3\n",
    "\n",
    "matrix = mat_gen(2)     \n",
    "print(matrix)\n",
    "\n",
    "print('-----------------------------')\n",
    "\n",
    "matrix_mult(matrix,matrix)"
   ]
  },
  {
   "cell_type": "code",
   "execution_count": 29,
   "id": "1e037e7d",
   "metadata": {},
   "outputs": [
    {
     "name": "stdout",
     "output_type": "stream",
     "text": [
      "[[177.2329836062736, 152.68993552503318], [194.32787790440946, 111.63709203983979]]\n",
      "-----------------------------\n"
     ]
    },
    {
     "data": {
      "text/plain": [
       "[[61083.441625922445, 44107.55322551651],\n",
       " [56135.50879039545, 42134.75146705246]]"
      ]
     },
     "execution_count": 29,
     "metadata": {},
     "output_type": "execute_result"
    }
   ],
   "source": [
    "import random\n",
    "import numpy as np\n",
    "\n",
    "def mat_gen_float(num):\n",
    "    lst = [[0 for x in range(num)] for y in range(num)]\n",
    "    for i in range (num):\n",
    "        for j in range(num):\n",
    "            lst[i][j] = random.random()*200\n",
    "    return lst\n",
    "\n",
    "matrix = mat_gen_float(2)     \n",
    "print(matrix)\n",
    "\n",
    "print('-----------------------------')\n",
    "\n",
    "matrix_mult(matrix,matrix)"
   ]
  },
  {
   "cell_type": "code",
   "execution_count": null,
   "id": "9ca2ae85",
   "metadata": {},
   "outputs": [],
   "source": []
  }
 ],
 "metadata": {
  "kernelspec": {
   "display_name": "Python 3 (ipykernel)",
   "language": "python",
   "name": "python3"
  },
  "language_info": {
   "codemirror_mode": {
    "name": "ipython",
    "version": 3
   },
   "file_extension": ".py",
   "mimetype": "text/x-python",
   "name": "python",
   "nbconvert_exporter": "python",
   "pygments_lexer": "ipython3",
   "version": "3.9.12"
  }
 },
 "nbformat": 4,
 "nbformat_minor": 5
}
